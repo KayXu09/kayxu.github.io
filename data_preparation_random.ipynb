{
 "cells": [
  {
   "cell_type": "code",
   "execution_count": 1,
   "metadata": {},
   "outputs": [],
   "source": [
    "import pandas as pd"
   ]
  },
  {
   "cell_type": "code",
   "execution_count": 2,
   "metadata": {},
   "outputs": [],
   "source": [
    "business_data = pd.read_csv(\"./raw data/business.csv\")\n",
    "review_data = pd.read_csv(\"./raw data/review.csv\")"
   ]
  },
  {
   "cell_type": "code",
   "execution_count": 3,
   "metadata": {},
   "outputs": [],
   "source": [
    "review_data['reviews'] = review_data.text\n",
    "review_data['review_star'] = review_data.stars"
   ]
  },
  {
   "cell_type": "code",
   "execution_count": 4,
   "metadata": {},
   "outputs": [],
   "source": [
    "review = review_data[['user_id', 'business_id', 'reviews', 'review_star']]"
   ]
  },
  {
   "cell_type": "code",
   "execution_count": 5,
   "metadata": {},
   "outputs": [],
   "source": [
    "business_data['restaurant_star'] = business_data.stars"
   ]
  },
  {
   "cell_type": "code",
   "execution_count": 6,
   "metadata": {},
   "outputs": [],
   "source": [
    "business = business_data[['business_id', 'categories', 'city', \n",
    "                            'is_open', 'latitude', 'longitude', 'name', \n",
    "                            'review_count', 'restaurant_star']]"
   ]
  },
  {
   "cell_type": "code",
   "execution_count": 7,
   "metadata": {},
   "outputs": [],
   "source": [
    "df = pd.merge(business, review, on=['business_id'], how='inner')"
   ]
  },
  {
   "cell_type": "code",
   "execution_count": 8,
   "metadata": {},
   "outputs": [],
   "source": [
    "data_frame = df.to_csv (r'.\\all_data.csv', index = None, header=True)"
   ]
  },
  {
   "cell_type": "code",
   "execution_count": 9,
   "metadata": {},
   "outputs": [],
   "source": [
    "all_data = pd.read_csv(\"all_data.csv\")"
   ]
  },
  {
   "cell_type": "code",
   "execution_count": 10,
   "metadata": {},
   "outputs": [],
   "source": [
    "data_Charlotte = all_data[all_data.city == 'Charlotte']"
   ]
  },
  {
   "cell_type": "code",
   "execution_count": 11,
   "metadata": {},
   "outputs": [],
   "source": [
    "data_frame = data_Charlotte.to_csv (r'.\\Charlotte_data.csv', index = None, header=True)"
   ]
  },
  {
   "cell_type": "code",
   "execution_count": 12,
   "metadata": {},
   "outputs": [],
   "source": [
    "import pandas as pd"
   ]
  },
  {
   "cell_type": "code",
   "execution_count": 13,
   "metadata": {},
   "outputs": [
    {
     "data": {
      "text/html": [
       "<div>\n",
       "<style scoped>\n",
       "    .dataframe tbody tr th:only-of-type {\n",
       "        vertical-align: middle;\n",
       "    }\n",
       "\n",
       "    .dataframe tbody tr th {\n",
       "        vertical-align: top;\n",
       "    }\n",
       "\n",
       "    .dataframe thead th {\n",
       "        text-align: right;\n",
       "    }\n",
       "</style>\n",
       "<table border=\"1\" class=\"dataframe\">\n",
       "  <thead>\n",
       "    <tr style=\"text-align: right;\">\n",
       "      <th></th>\n",
       "      <th>business_id</th>\n",
       "      <th>categories</th>\n",
       "      <th>city</th>\n",
       "      <th>is_open</th>\n",
       "      <th>latitude</th>\n",
       "      <th>longitude</th>\n",
       "      <th>name</th>\n",
       "      <th>review_count</th>\n",
       "      <th>restaurant_star</th>\n",
       "      <th>user_id</th>\n",
       "      <th>reviews</th>\n",
       "      <th>review_star</th>\n",
       "    </tr>\n",
       "  </thead>\n",
       "  <tbody>\n",
       "    <tr>\n",
       "      <th>0</th>\n",
       "      <td>gnKjwL_1w79qoiV3IC_xQQ</td>\n",
       "      <td>Sushi Bars, Restaurants, Japanese</td>\n",
       "      <td>Charlotte</td>\n",
       "      <td>1</td>\n",
       "      <td>35.092564</td>\n",
       "      <td>-80.859132</td>\n",
       "      <td>Musashi Japanese Restaurant</td>\n",
       "      <td>170</td>\n",
       "      <td>4.0</td>\n",
       "      <td>PVyZXgOkVtnU6966FDFhuw</td>\n",
       "      <td>Lunch Review:\\n\\nWe pulled up at 11:45 am to d...</td>\n",
       "      <td>3</td>\n",
       "    </tr>\n",
       "    <tr>\n",
       "      <th>1</th>\n",
       "      <td>gnKjwL_1w79qoiV3IC_xQQ</td>\n",
       "      <td>Sushi Bars, Restaurants, Japanese</td>\n",
       "      <td>Charlotte</td>\n",
       "      <td>1</td>\n",
       "      <td>35.092564</td>\n",
       "      <td>-80.859132</td>\n",
       "      <td>Musashi Japanese Restaurant</td>\n",
       "      <td>170</td>\n",
       "      <td>4.0</td>\n",
       "      <td>lADyDfN0ffucfl91-biKxA</td>\n",
       "      <td>I am so thankful that this no-frills Japanese ...</td>\n",
       "      <td>4</td>\n",
       "    </tr>\n",
       "    <tr>\n",
       "      <th>2</th>\n",
       "      <td>gnKjwL_1w79qoiV3IC_xQQ</td>\n",
       "      <td>Sushi Bars, Restaurants, Japanese</td>\n",
       "      <td>Charlotte</td>\n",
       "      <td>1</td>\n",
       "      <td>35.092564</td>\n",
       "      <td>-80.859132</td>\n",
       "      <td>Musashi Japanese Restaurant</td>\n",
       "      <td>170</td>\n",
       "      <td>4.0</td>\n",
       "      <td>FnTSYLOUk3buQpfUAcZ9NA</td>\n",
       "      <td>They have very fresh sushi for a good price!  ...</td>\n",
       "      <td>5</td>\n",
       "    </tr>\n",
       "    <tr>\n",
       "      <th>3</th>\n",
       "      <td>gnKjwL_1w79qoiV3IC_xQQ</td>\n",
       "      <td>Sushi Bars, Restaurants, Japanese</td>\n",
       "      <td>Charlotte</td>\n",
       "      <td>1</td>\n",
       "      <td>35.092564</td>\n",
       "      <td>-80.859132</td>\n",
       "      <td>Musashi Japanese Restaurant</td>\n",
       "      <td>170</td>\n",
       "      <td>4.0</td>\n",
       "      <td>xwxOLD5WlZa6JlMlaqVYcA</td>\n",
       "      <td>Musashi was an overall great experience. The r...</td>\n",
       "      <td>5</td>\n",
       "    </tr>\n",
       "    <tr>\n",
       "      <th>4</th>\n",
       "      <td>gnKjwL_1w79qoiV3IC_xQQ</td>\n",
       "      <td>Sushi Bars, Restaurants, Japanese</td>\n",
       "      <td>Charlotte</td>\n",
       "      <td>1</td>\n",
       "      <td>35.092564</td>\n",
       "      <td>-80.859132</td>\n",
       "      <td>Musashi Japanese Restaurant</td>\n",
       "      <td>170</td>\n",
       "      <td>4.0</td>\n",
       "      <td>ORN1RQyjCmnZQYjnf8klLQ</td>\n",
       "      <td>If you are looking for the most authentic Japa...</td>\n",
       "      <td>5</td>\n",
       "    </tr>\n",
       "  </tbody>\n",
       "</table>\n",
       "</div>"
      ],
      "text/plain": [
       "              business_id                         categories       city  \\\n",
       "0  gnKjwL_1w79qoiV3IC_xQQ  Sushi Bars, Restaurants, Japanese  Charlotte   \n",
       "1  gnKjwL_1w79qoiV3IC_xQQ  Sushi Bars, Restaurants, Japanese  Charlotte   \n",
       "2  gnKjwL_1w79qoiV3IC_xQQ  Sushi Bars, Restaurants, Japanese  Charlotte   \n",
       "3  gnKjwL_1w79qoiV3IC_xQQ  Sushi Bars, Restaurants, Japanese  Charlotte   \n",
       "4  gnKjwL_1w79qoiV3IC_xQQ  Sushi Bars, Restaurants, Japanese  Charlotte   \n",
       "\n",
       "   is_open   latitude  longitude                         name  review_count  \\\n",
       "0        1  35.092564 -80.859132  Musashi Japanese Restaurant           170   \n",
       "1        1  35.092564 -80.859132  Musashi Japanese Restaurant           170   \n",
       "2        1  35.092564 -80.859132  Musashi Japanese Restaurant           170   \n",
       "3        1  35.092564 -80.859132  Musashi Japanese Restaurant           170   \n",
       "4        1  35.092564 -80.859132  Musashi Japanese Restaurant           170   \n",
       "\n",
       "   restaurant_star                 user_id  \\\n",
       "0              4.0  PVyZXgOkVtnU6966FDFhuw   \n",
       "1              4.0  lADyDfN0ffucfl91-biKxA   \n",
       "2              4.0  FnTSYLOUk3buQpfUAcZ9NA   \n",
       "3              4.0  xwxOLD5WlZa6JlMlaqVYcA   \n",
       "4              4.0  ORN1RQyjCmnZQYjnf8klLQ   \n",
       "\n",
       "                                             reviews  review_star  \n",
       "0  Lunch Review:\\n\\nWe pulled up at 11:45 am to d...            3  \n",
       "1  I am so thankful that this no-frills Japanese ...            4  \n",
       "2  They have very fresh sushi for a good price!  ...            5  \n",
       "3  Musashi was an overall great experience. The r...            5  \n",
       "4  If you are looking for the most authentic Japa...            5  "
      ]
     },
     "execution_count": 13,
     "metadata": {},
     "output_type": "execute_result"
    }
   ],
   "source": [
    "data_Charlotte = pd.read_csv(\"Charlotte_data.csv\")\n",
    "\n",
    "data_Charlotte.head()"
   ]
  },
  {
   "cell_type": "code",
   "execution_count": 14,
   "metadata": {},
   "outputs": [
    {
     "data": {
      "text/plain": [
       "234888"
      ]
     },
     "execution_count": 14,
     "metadata": {},
     "output_type": "execute_result"
    }
   ],
   "source": [
    "len(data_Charlotte)"
   ]
  },
  {
   "cell_type": "code",
   "execution_count": 15,
   "metadata": {},
   "outputs": [
    {
     "data": {
      "text/plain": [
       "Index(['yQab5dxZzgBLTEHCw9V7_w', 'RAh9WCQAuocM7hYM5_6tnw',\n",
       "       'gG9z6zr_49LocyCTvSFg0w', 'RVQE2Z2uky4c0-njFQO66g',\n",
       "       'WbJ1LRQdOuYYlRLyTkuuxw', 'T2tEMLpTeSMxLKpxwFdS3g',\n",
       "       'NFm869_w6cvVaWaNpAzjeA', '01fuY2NNscttoTxOYbuZXw',\n",
       "       'aO1gAp41n8w8zpxTiHdLNA', 'sdYkVaTy7EJwUkO8Ie_qPg',\n",
       "       ...\n",
       "       'd-Rxq5Ne5vtu6Rg2FTEI0Q', 'FZnq7MlStiPg_ozB2uTR7w',\n",
       "       'pNqn6veP0WBWlhXlXil8aA', 'X7KXevf0RKjLpoVJFyB0bQ',\n",
       "       '3mWjJx9hYj2MGaUZmw4X2w', 'luF-UfUa8wQrIU334PyF0w',\n",
       "       'aQ3Dfqb-JV00wDPPYHvc8w', 'Eo7L1EEaumQ6Pnl9nduBUg',\n",
       "       'roxnZ0kodKkj5iR72UlQSw', 'rSOiPODhWCo9N_ne0R-Btg'],\n",
       "      dtype='object', length=8250)"
      ]
     },
     "execution_count": 15,
     "metadata": {},
     "output_type": "execute_result"
    }
   ],
   "source": [
    "data_Charlotte.business_id.value_counts().index"
   ]
  },
  {
   "cell_type": "code",
   "execution_count": 16,
   "metadata": {},
   "outputs": [],
   "source": [
    "restaurant = list(data_Charlotte.business_id.unique())\n",
    "user = list(data_Charlotte.user_id.unique())"
   ]
  },
  {
   "cell_type": "code",
   "execution_count": 17,
   "metadata": {},
   "outputs": [],
   "source": [
    "uniqnames = data_Charlotte['business_id'].unique() # get unique names\n",
    "newdata = []                 # data list for output dataframe\n",
    "for u in uniqnames:          # for each unique name\n",
    "    subreview = data_Charlotte[data_Charlotte['business_id'] == u] # get rows with this unique name\n",
    "    s = \"\"\n",
    "    for i in subreview['reviews']:\n",
    "        s += \"(\"+i+\"),\"      # join all info cells for that name\n",
    "    newdata.append([u, s[:-1]]) # remove trailing comma from infos & add row to data list\n",
    "\n",
    "review_list = pd.DataFrame(data=newdata, columns=['business_id','reviews'])"
   ]
  },
  {
   "cell_type": "code",
   "execution_count": 18,
   "metadata": {},
   "outputs": [],
   "source": [
    "all_network = pd.merge(business, review_list, on=['business_id'], how='inner')"
   ]
  },
  {
   "cell_type": "code",
   "execution_count": 19,
   "metadata": {},
   "outputs": [
    {
     "data": {
      "text/plain": [
       "8250"
      ]
     },
     "execution_count": 19,
     "metadata": {},
     "output_type": "execute_result"
    }
   ],
   "source": [
    "len(review_list.business_id.unique())"
   ]
  },
  {
   "cell_type": "code",
   "execution_count": 20,
   "metadata": {},
   "outputs": [
    {
     "data": {
      "text/plain": [
       "8250"
      ]
     },
     "execution_count": 20,
     "metadata": {},
     "output_type": "execute_result"
    }
   ],
   "source": [
    "len(data_Charlotte.business_id.unique())"
   ]
  },
  {
   "cell_type": "code",
   "execution_count": 21,
   "metadata": {},
   "outputs": [
    {
     "data": {
      "text/html": [
       "<div>\n",
       "<style scoped>\n",
       "    .dataframe tbody tr th:only-of-type {\n",
       "        vertical-align: middle;\n",
       "    }\n",
       "\n",
       "    .dataframe tbody tr th {\n",
       "        vertical-align: top;\n",
       "    }\n",
       "\n",
       "    .dataframe thead th {\n",
       "        text-align: right;\n",
       "    }\n",
       "</style>\n",
       "<table border=\"1\" class=\"dataframe\">\n",
       "  <thead>\n",
       "    <tr style=\"text-align: right;\">\n",
       "      <th></th>\n",
       "      <th>business_id</th>\n",
       "      <th>categories</th>\n",
       "      <th>city</th>\n",
       "      <th>is_open</th>\n",
       "      <th>latitude</th>\n",
       "      <th>longitude</th>\n",
       "      <th>name</th>\n",
       "      <th>review_count</th>\n",
       "      <th>restaurant_star</th>\n",
       "      <th>reviews</th>\n",
       "    </tr>\n",
       "  </thead>\n",
       "  <tbody>\n",
       "    <tr>\n",
       "      <th>0</th>\n",
       "      <td>gnKjwL_1w79qoiV3IC_xQQ</td>\n",
       "      <td>Sushi Bars, Restaurants, Japanese</td>\n",
       "      <td>Charlotte</td>\n",
       "      <td>1</td>\n",
       "      <td>35.092564</td>\n",
       "      <td>-80.859132</td>\n",
       "      <td>Musashi Japanese Restaurant</td>\n",
       "      <td>170</td>\n",
       "      <td>4.0</td>\n",
       "      <td>(Lunch Review:\\n\\nWe pulled up at 11:45 am to ...</td>\n",
       "    </tr>\n",
       "    <tr>\n",
       "      <th>1</th>\n",
       "      <td>irft4YkdNsww4DNf_Aftew</td>\n",
       "      <td>Juice Bars &amp; Smoothies, Food, Ice Cream &amp; Froz...</td>\n",
       "      <td>Charlotte</td>\n",
       "      <td>0</td>\n",
       "      <td>35.210510</td>\n",
       "      <td>-80.690262</td>\n",
       "      <td>So Cool Frozen Yogurt</td>\n",
       "      <td>6</td>\n",
       "      <td>4.5</td>\n",
       "      <td>(Love this place! Amazing frozen yogurt and gr...</td>\n",
       "    </tr>\n",
       "    <tr>\n",
       "      <th>2</th>\n",
       "      <td>BvYU3jvGd0TJ7IyZdfiN2Q</td>\n",
       "      <td>Sandwiches, Italian, American (Traditional), A...</td>\n",
       "      <td>Charlotte</td>\n",
       "      <td>0</td>\n",
       "      <td>35.156338</td>\n",
       "      <td>-80.831878</td>\n",
       "      <td>Manzetti's Tavern</td>\n",
       "      <td>16</td>\n",
       "      <td>3.5</td>\n",
       "      <td>(I had low country crab cakes for lunch becaus...</td>\n",
       "    </tr>\n",
       "    <tr>\n",
       "      <th>3</th>\n",
       "      <td>_J_x_RaYTqAqAuCwgRhnRQ</td>\n",
       "      <td>Coffee &amp; Tea, Hookah Bars, Nightlife, Persian/...</td>\n",
       "      <td>Charlotte</td>\n",
       "      <td>0</td>\n",
       "      <td>35.172028</td>\n",
       "      <td>-80.746801</td>\n",
       "      <td>Kabob House</td>\n",
       "      <td>15</td>\n",
       "      <td>3.0</td>\n",
       "      <td>(Great food, fantastic atmosphere and decor.  ...</td>\n",
       "    </tr>\n",
       "    <tr>\n",
       "      <th>4</th>\n",
       "      <td>0KlYc--jcw4EOYdPS8CDQg</td>\n",
       "      <td>Beauty &amp; Spas, Hair Salons, Kids Hair Salons</td>\n",
       "      <td>Charlotte</td>\n",
       "      <td>1</td>\n",
       "      <td>35.102490</td>\n",
       "      <td>-80.985769</td>\n",
       "      <td>Cookie Cutters Haircuts for Kids</td>\n",
       "      <td>7</td>\n",
       "      <td>4.0</td>\n",
       "      <td>(Such a great salon!! From the owner to the st...</td>\n",
       "    </tr>\n",
       "  </tbody>\n",
       "</table>\n",
       "</div>"
      ],
      "text/plain": [
       "              business_id                                         categories  \\\n",
       "0  gnKjwL_1w79qoiV3IC_xQQ                  Sushi Bars, Restaurants, Japanese   \n",
       "1  irft4YkdNsww4DNf_Aftew  Juice Bars & Smoothies, Food, Ice Cream & Froz...   \n",
       "2  BvYU3jvGd0TJ7IyZdfiN2Q  Sandwiches, Italian, American (Traditional), A...   \n",
       "3  _J_x_RaYTqAqAuCwgRhnRQ  Coffee & Tea, Hookah Bars, Nightlife, Persian/...   \n",
       "4  0KlYc--jcw4EOYdPS8CDQg       Beauty & Spas, Hair Salons, Kids Hair Salons   \n",
       "\n",
       "        city  is_open   latitude  longitude                              name  \\\n",
       "0  Charlotte        1  35.092564 -80.859132       Musashi Japanese Restaurant   \n",
       "1  Charlotte        0  35.210510 -80.690262             So Cool Frozen Yogurt   \n",
       "2  Charlotte        0  35.156338 -80.831878                 Manzetti's Tavern   \n",
       "3  Charlotte        0  35.172028 -80.746801                       Kabob House   \n",
       "4  Charlotte        1  35.102490 -80.985769  Cookie Cutters Haircuts for Kids   \n",
       "\n",
       "   review_count  restaurant_star  \\\n",
       "0           170              4.0   \n",
       "1             6              4.5   \n",
       "2            16              3.5   \n",
       "3            15              3.0   \n",
       "4             7              4.0   \n",
       "\n",
       "                                             reviews  \n",
       "0  (Lunch Review:\\n\\nWe pulled up at 11:45 am to ...  \n",
       "1  (Love this place! Amazing frozen yogurt and gr...  \n",
       "2  (I had low country crab cakes for lunch becaus...  \n",
       "3  (Great food, fantastic atmosphere and decor.  ...  \n",
       "4  (Such a great salon!! From the owner to the st...  "
      ]
     },
     "execution_count": 21,
     "metadata": {},
     "output_type": "execute_result"
    }
   ],
   "source": [
    "all_network.head()"
   ]
  },
  {
   "cell_type": "code",
   "execution_count": 22,
   "metadata": {},
   "outputs": [],
   "source": [
    "data_frame = all_network.to_csv (r'.\\random_network.csv', index = None, header=True)"
   ]
  },
  {
   "cell_type": "code",
   "execution_count": 23,
   "metadata": {},
   "outputs": [
    {
     "data": {
      "text/plain": [
       "AmÃ©lie's French Bakery & CafÃ©            1926\n",
       "Charlotte Douglas International Airport    1585\n",
       "Midwood Smokehouse                         1465\n",
       "The Cowfish Sushi Burger Bar               1345\n",
       "Viva Chicken                               1186\n",
       "Tupelo Honey                               1053\n",
       "Bad Daddy's Burger Bar                     1030\n",
       "Starbucks                                   996\n",
       "Cabo Fish Taco                              945\n",
       "Soul Gastrolounge                           822\n",
       "Pinky's Westside Grill                      799\n",
       "Mert's Heart & Soul                         770\n",
       "Futo Buta                                   700\n",
       "Cantina 1511                                671\n",
       "Sabor Latin Street Grill                    631\n",
       "Harris Teeter                               605\n",
       "Bojangles' Famous Chicken 'n Biscuits       576\n",
       "Midnight Diner                              563\n",
       "Cajun Queen                                 558\n",
       "Firebirds Wood Fired Grill                  556\n",
       "300 East                                    552\n",
       "Good Food on Montford                       547\n",
       "5Church                                     541\n",
       "Hickory Tavern                              534\n",
       "Mellow Mushroom                             525\n",
       "Terrace Restaurants                         525\n",
       "Fahrenheit                                  523\n",
       "Zada Jane's Corner Cafe                     523\n",
       "Dandelion Market                            522\n",
       "Seoul Food Meat Company                     513\n",
       "                                           ... \n",
       "ATD Computer Solutions                        3\n",
       "Charlotte Mecklenburg Police Department       3\n",
       "Zenith Gymnastics                             3\n",
       "At The Heels Weddings & Events                3\n",
       "Mma of Charlotte                              3\n",
       "Breakaway Sports                              3\n",
       "Four Seasons Property Management              3\n",
       "Fashion Flowers                               3\n",
       "Kristy Whitesell                              3\n",
       "A-1 Automotive Inspections                    3\n",
       "Nit Nabbers                                   3\n",
       "Regus North Carolina SouthPark                3\n",
       "California Closets - Charlotte                3\n",
       "Domenico's Cucina Italiana                    3\n",
       "Yogo Novus                                    3\n",
       "Waverly Dental                                3\n",
       "Town & Country Toyota Collision Center        3\n",
       "Nail Art                                      3\n",
       "Suddath Relocation Systems                    3\n",
       "Rebecca Richardson - Brand Mortgage           3\n",
       "Downtown Radio Service                        3\n",
       "Robert Half Technology                        3\n",
       "TTS Auto Repair & Service                     3\n",
       "NC Welcome Station & Rest Area                3\n",
       "Lucky Oriental Grocery                        3\n",
       "D & L Parts Company Inc                       3\n",
       "Invisible Fence                               3\n",
       "Law Offices of Jeffrey G Scott                3\n",
       "Daltile Sales Service Center                  2\n",
       "Make A Move                                   2\n",
       "Name: name, Length: 6729, dtype: int64"
      ]
     },
     "execution_count": 23,
     "metadata": {},
     "output_type": "execute_result"
    }
   ],
   "source": [
    "data_Charlotte.name.value_counts()"
   ]
  },
  {
   "cell_type": "markdown",
   "metadata": {},
   "source": [
    "# The same name may include several different restaurants"
   ]
  },
  {
   "cell_type": "code",
   "execution_count": 51,
   "metadata": {},
   "outputs": [
    {
     "data": {
      "text/plain": [
       "Starbucks                                             41\n",
       "McDonald's                                            35\n",
       "Subway                                                32\n",
       "Harris Teeter                                         30\n",
       "Bojangles' Famous Chicken 'n Biscuits                 28\n",
       "Wendy's                                               27\n",
       "Chick-fil-A                                           20\n",
       "Bank of America                                       20\n",
       "CVS Pharmacy                                          19\n",
       "The UPS Store                                         19\n",
       "Food Lion                                             18\n",
       "Great Clips                                           17\n",
       "Pizza Hut                                             17\n",
       "Taco Bell                                             17\n",
       "Burger King                                           17\n",
       "Domino's                                              16\n",
       "Papa John's Pizza                                     16\n",
       "Enterprise Rent-A-Car                                 16\n",
       "Autobell Car Wash                                     14\n",
       "Smoothie King                                         14\n",
       "Dunkin' Donuts                                        14\n",
       "Public Storage                                        14\n",
       "Rite Aid                                              14\n",
       "Panera Bread                                          13\n",
       "Firestone Complete Auto Care                          12\n",
       "Jersey Mike's Subs                                    11\n",
       "KFC                                                   10\n",
       "Firehouse Subs                                        10\n",
       "FedEx Office Print & Ship Center                      10\n",
       "Dollar Tree                                           10\n",
       "                                                      ..\n",
       "Feast Food Tours & Culinary Events                     1\n",
       "Import Paint & Body                                    1\n",
       "Metropolitan Cafe & Catering                           1\n",
       "Habitat Charlotte ReStore - Wendover                   1\n",
       "Chicken King Restaurant                                1\n",
       "Harris Limo                                            1\n",
       "HBL Insurance Agency                                   1\n",
       "Lucky You Natural Hair Care Salon                      1\n",
       "McGill Rose Garden                                     1\n",
       "Phil's Tavern                                          1\n",
       "Margarona Mexican Bar and Grill                        1\n",
       "Valbuena Insurance Group                               1\n",
       "Realeyes Bookstore                                     1\n",
       "Great Grapes Wine & Food Festival                      1\n",
       "Wine and Canvas                                        1\n",
       "Carmen's Sewing and Alterations                        1\n",
       "WetPaint Nail Bar                                      1\n",
       "Salon Salas                                            1\n",
       "Reflections Medical Spa                                1\n",
       "Kristy Whitesell                                       1\n",
       "Matt Stone Real Estate Team                            1\n",
       "Bisonte Pizza                                          1\n",
       "Morningside Barber & Style Shop                        1\n",
       "Levant Mediterranean Cuisine                           1\n",
       "Rock-n-Lobster                                         1\n",
       "Angry Ale's                                            1\n",
       "Subsecreto                                             1\n",
       "Core Revolution                                        1\n",
       "Charlotte Sewing Center                                1\n",
       "Holiday Sip & Shop At The 7th Street Public Market     1\n",
       "Name: name, Length: 6729, dtype: int64"
      ]
     },
     "execution_count": 51,
     "metadata": {},
     "output_type": "execute_result"
    }
   ],
   "source": [
    "data_Charlotte = pd.read_csv(\"random_network.csv\")\n",
    "\n",
    "data_Charlotte.name.value_counts()"
   ]
  },
  {
   "cell_type": "code",
   "execution_count": null,
   "metadata": {},
   "outputs": [],
   "source": []
  },
  {
   "cell_type": "code",
   "execution_count": null,
   "metadata": {},
   "outputs": [],
   "source": []
  },
  {
   "cell_type": "code",
   "execution_count": null,
   "metadata": {},
   "outputs": [],
   "source": []
  }
 ],
 "metadata": {
  "kernelspec": {
   "display_name": "Python 3",
   "language": "python",
   "name": "python3"
  },
  "language_info": {
   "codemirror_mode": {
    "name": "ipython",
    "version": 3
   },
   "file_extension": ".py",
   "mimetype": "text/x-python",
   "name": "python",
   "nbconvert_exporter": "python",
   "pygments_lexer": "ipython3",
   "version": "3.7.3"
  }
 },
 "nbformat": 4,
 "nbformat_minor": 2
}
